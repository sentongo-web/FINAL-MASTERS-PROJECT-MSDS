{
 "cells": [
  {
   "cell_type": "code",
   "execution_count": null,
   "metadata": {},
   "outputs": [],
   "source": [
    "import pandas as pd\n",
    "\n",
    "# Load the dataset\n",
    "file_path_data = r'C:\\Users\\Meddieek\\Downloads\\ScaleDown.xlsx'\n",
    "data = pd.read_excel(file_path_data)\n",
    "\n",
    "# Resize the dataset to half of its original size\n",
    "half_data = data.sample(frac=0.5, random_state=42)\n",
    "\n",
    "# Save the resized dataset to a new Excel file\n",
    "resized_file_path = r'D:\\MASTERS-PROJECT\\FINAL-MASTERS-PROJECT-MSDS\\ScaleDown_resized.xlsx'\n",
    "half_data.to_excel(resized_file_path, index=False)\n",
    "\n",
    "resized_file_path\n"
   ]
  }
 ],
 "metadata": {
  "kernelspec": {
   "display_name": "Python 3",
   "language": "python",
   "name": "python3"
  },
  "language_info": {
   "codemirror_mode": {
    "name": "ipython",
    "version": 3
   },
   "file_extension": ".py",
   "mimetype": "text/x-python",
   "name": "python",
   "nbconvert_exporter": "python",
   "pygments_lexer": "ipython3",
   "version": "3.11.10"
  }
 },
 "nbformat": 4,
 "nbformat_minor": 2
}
